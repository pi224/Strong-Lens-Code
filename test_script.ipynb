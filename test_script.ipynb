{
 "cells": [
  {
   "cell_type": "code",
   "execution_count": null,
   "metadata": {},
   "outputs": [
    {
     "name": "stderr",
     "output_type": "stream",
     "text": [
      "Using TensorFlow backend.\n"
     ]
    },
    {
     "name": "stdout",
     "output_type": "stream",
     "text": [
      "14000\n",
      "5984\n",
      "(14000, 101, 101, 4)\n",
      "checkpoint passed: generator fit!\n",
      "Epoch 1/1\n",
      "437/437 [==============================] - 279s - loss: 28.1377 - acc: 0.6533   \n",
      "checkpoint passed: model fit for 1 epoch\n",
      "checkpoint passed: model prediction for 1 epoch\n",
      "Epoch 1/1\n",
      " 29/437 [>.............................] - ETA: 276s - loss: 5.6955 - acc: 0.6994"
     ]
    }
   ],
   "source": [
    "import test_image_flip"
   ]
  },
  {
   "cell_type": "code",
   "execution_count": null,
   "metadata": {},
   "outputs": [
    {
     "name": "stdout",
     "output_type": "stream",
     "text": [
      "reg_1 = 0.3\n",
      "reg_2 = 0.2\n"
     ]
    },
    {
     "name": "stderr",
     "output_type": "stream",
     "text": [
      "Using TensorFlow backend.\n"
     ]
    },
    {
     "name": "stdout",
     "output_type": "stream",
     "text": [
      "Epoch 1/1\n",
      "14000/14000 [==============================] - 274s - loss: 39.5660 - acc: 0.7051   \n",
      "Epoch number  2\n",
      "6000/6000 [==============================] - 41s    \n",
      "Epoch 1/1\n",
      "14000/14000 [==============================] - 288s - loss: 9.0426 - acc: 0.7772   \n",
      "Epoch number  3\n",
      "6000/6000 [==============================] - 41s    \n",
      "Epoch 1/1\n",
      "14000/14000 [==============================] - 302s - loss: 0.7754 - acc: 0.8335   \n",
      "Epoch number  8\n",
      "6000/6000 [==============================] - 41s    \n",
      "Epoch 1/1\n",
      "14000/14000 [==============================] - 302s - loss: 0.6594 - acc: 0.8466   \n",
      "Epoch number  9\n",
      "6000/6000 [==============================] - 41s    \n",
      "Epoch 1/1\n",
      " 8992/14000 [==================>...........] - ETA: 109s - loss: 0.5995 - acc: 0.8518"
     ]
    }
   ],
   "source": [
    "print('reg_1 = 0.3')\n",
    "print('reg_2 = 0.2')\n",
    "import reg_script"
   ]
  },
  {
   "cell_type": "code",
   "execution_count": null,
   "metadata": {},
   "outputs": [
    {
     "name": "stderr",
     "output_type": "stream",
     "text": [
      "Using TensorFlow backend.\n"
     ]
    },
    {
     "name": "stdout",
     "output_type": "stream",
     "text": [
      "Epoch 1/2\n",
      "700/700 [==============================] - 5s - loss: 87.0991 - acc: 0.6171     \n",
      "Epoch 2/2\n",
      "700/700 [==============================] - 4s - loss: 80.9190 - acc: 0.6729     \n",
      "700/700 [==============================] - 1s     \n",
      "[[0.76341210316288566], [0.0]]\n",
      "5984/6000 [============================>.] - ETA: 0s[[0.68090971163458569], [0.0]]\n",
      "Epoch 1/2\n",
      "1400/1400 [==============================] - 12s - loss: 82.1247 - acc: 0.5707    \n",
      "Epoch 2/2\n",
      "1248/1400 [=========================>....] - ETA: 1s - loss: 69.9644 - acc: 0.6683"
     ]
    }
   ],
   "source": [
    "import reg_script"
   ]
  },
  {
   "cell_type": "code",
   "execution_count": null,
   "metadata": {
    "collapsed": true
   },
   "outputs": [],
   "source": []
  },
  {
   "cell_type": "code",
   "execution_count": null,
   "metadata": {
    "collapsed": true
   },
   "outputs": [],
   "source": []
  },
  {
   "cell_type": "code",
   "execution_count": null,
   "metadata": {
    "collapsed": true
   },
   "outputs": [],
   "source": []
  }
 ],
 "metadata": {
  "kernelspec": {
   "display_name": "Python 3",
   "language": "python",
   "name": "python3"
  },
  "language_info": {
   "codemirror_mode": {
    "name": "ipython",
    "version": 3
   },
   "file_extension": ".py",
   "mimetype": "text/x-python",
   "name": "python",
   "nbconvert_exporter": "python",
   "pygments_lexer": "ipython3",
   "version": "3.5.4"
  }
 },
 "nbformat": 4,
 "nbformat_minor": 2
}
